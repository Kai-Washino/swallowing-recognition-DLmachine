{
 "cells": [
  {
   "cell_type": "markdown",
   "id": "61a1e364",
   "metadata": {},
   "source": [
    "# csv出力\n",
    "- pandasDateFremeにデータを格納する\n",
    "- それを全てcsv出力する\n",
    "\n",
    "pandasDateFrameに格納するのは\n",
    "- 嚥下の開始時間\n",
    "- 嚥下の終了時間\n",
    "\n",
    "ステップとしては\n",
    "1. 必要なライブラリをimport\n",
    "2. wavファイルのパスを取得\n",
    "3. wavファイルをモデルで解析\n",
    "4. 結果をdfに格納\n",
    "5. csvファイルを出力"
   ]
  },
  {
   "cell_type": "markdown",
   "id": "7ac5dcc1",
   "metadata": {},
   "source": [
    "## 必要なライブラリをimport"
   ]
  },
  {
   "cell_type": "code",
   "execution_count": 2,
   "id": "ad9d4dea",
   "metadata": {},
   "outputs": [
    {
     "name": "stderr",
     "output_type": "stream",
     "text": [
      "2024-03-11 09:12:43.026822: I tensorflow/core/util/port.cc:110] oneDNN custom operations are on. You may see slightly different numerical results due to floating-point round-off errors from different computation orders. To turn them off, set the environment variable `TF_ENABLE_ONEDNN_OPTS=0`.\n",
      "2024-03-11 09:12:43.068460: I tensorflow/core/platform/cpu_feature_guard.cc:182] This TensorFlow binary is optimized to use available CPU instructions in performance-critical operations.\n",
      "To enable the following instructions: AVX2 AVX512F AVX512_VNNI FMA, in other operations, rebuild TensorFlow with the appropriate compiler flags.\n",
      "2024-03-11 09:12:43.732862: W tensorflow/compiler/tf2tensorrt/utils/py_utils.cc:38] TF-TRT Warning: Could not find TensorRT\n"
     ]
    }
   ],
   "source": [
    "import numpy as np\n",
    "import pandas as pd\n",
    "import scipy.io.wavfile as wav\n",
    "import matplotlib.pyplot as plt\n",
    "from IPython.display import display, HTML\n",
    "from tensorflow.keras.models import load_model"
   ]
  },
  {
   "cell_type": "code",
   "execution_count": 3,
   "id": "fc607144",
   "metadata": {},
   "outputs": [],
   "source": [
    "import os\n",
    "import sys\n",
    "import pathlib\n",
    "current_dir = os.getcwd()\n",
    "parent_dir = os.path.dirname(current_dir)\n",
    "sys.path.append(parent_dir)\n",
    "current_file_path = pathlib.Path(os.getcwd())\n",
    "parent_dir = current_file_path.parent\n",
    "import swallowing_recognition"
   ]
  },
  {
   "cell_type": "code",
   "execution_count": 15,
   "id": "22a3077a",
   "metadata": {},
   "outputs": [],
   "source": [
    "from swallowing_recognition import wavelet\n",
    "from swallowing_recognition import dataset\n",
    "from swallowing_recognition import long_audio"
   ]
  },
  {
   "cell_type": "markdown",
   "id": "688e9cb6",
   "metadata": {},
   "source": [
    "## wavファイルのパスを取得"
   ]
  },
  {
   "cell_type": "code",
   "execution_count": 13,
   "id": "e94e955b",
   "metadata": {},
   "outputs": [
    {
     "name": "stdout",
     "output_type": "stream",
     "text": [
      "['10min_kanata_20240229_2.wav', '10min_oda_20240227_2.wav', '10min_osawa_20240227_5.wav', '10min_tsuji_20240229_3.wav', '10min_matsumi_20240227_5.wav', '10min_oda_20240227_5.wav', '10min_shibata_20240229_1.wav', '10min_tsuji_20240229_1.wav', '10min_matsumi_20240227_2.wav', '10min_shibata_20240229_4.wav', '10min_oda_20240227_4.wav', '10min_kanata_20240229_5.wav', '10min_matsumi_20240227_1.wav', '10min_osawa_20240227_3.wav', '10min_matsumi_20240227_3.wav', '10min_tsuji_20240229_4.wav', '10min_osawa_20240227_2.wav', '10min_kanata_20240229_3.wav', '10min_matsumi_20240227_4.wav', '10min_tsuji_20240229_2.wav', '10min_shibata_20240229_5.wav', '10min_tsuji_20240229_5.wav', '10min_osawa_20240227_4.wav', '10min_kanata_20240229_1.wav', '10min_kanata_20240229_4.wav', '10min_shibata_20240229_2.wav', '10min_osawa_20240227_1.wav', '10min_shibata_20240229_3.wav', '10min_oda_20240227_3.wav', '10min_oda_20240227_1.wav']\n"
     ]
    }
   ],
   "source": [
    "directory_path = parent_dir \n",
    "folder_path = directory_path / 'experiment'/ 'experiment_1'\n",
    "wav_files = [file for file in os.listdir(folder_path) if file.endswith('.wav')]\n",
    "print(wav_files)"
   ]
  },
  {
   "cell_type": "code",
   "execution_count": 17,
   "id": "58447d40",
   "metadata": {},
   "outputs": [],
   "source": [
    "wavs = [long_audio.Long_audio(folder_path / wav_file) for wav_file in wav_files]"
   ]
  },
  {
   "cell_type": "markdown",
   "id": "1d69dd97",
   "metadata": {},
   "source": [
    "## wavファイルを解析"
   ]
  },
  {
   "cell_type": "code",
   "execution_count": 18,
   "id": "ecf8eb7d",
   "metadata": {},
   "outputs": [
    {
     "name": "stderr",
     "output_type": "stream",
     "text": [
      "2024-03-11 09:33:57.919589: I tensorflow/core/common_runtime/gpu/gpu_device.cc:1635] Created device /job:localhost/replica:0/task:0/device:GPU:0 with 22064 MB memory:  -> device: 0, name: NVIDIA GeForce RTX 3090, pci bus id: 0000:65:00.0, compute capability: 8.6\n"
     ]
    },
    {
     "name": "stdout",
     "output_type": "stream",
     "text": [
      "(35, 224, 224, 3)\n"
     ]
    },
    {
     "name": "stderr",
     "output_type": "stream",
     "text": [
      "2024-03-11 09:34:04.272763: I tensorflow/compiler/xla/stream_executor/cuda/cuda_dnn.cc:424] Loaded cuDNN version 8600\n",
      "2024-03-11 09:34:04.455686: I tensorflow/compiler/xla/stream_executor/cuda/cuda_blas.cc:637] TensorFloat-32 will be used for the matrix multiplication. This will only be logged once.\n"
     ]
    },
    {
     "name": "stdout",
     "output_type": "stream",
     "text": [
      "2/2 [==============================] - 2s 123ms/step\n",
      "Predicted classes: [1 1 1 1 1 0 1 0 1 1 1 1 1 0 0 1 1 1 1 0 1 1 1 1 1 1 1 0 1 0 1 1 1 1 1]\n",
      "(157, 224, 224, 3)\n",
      "5/5 [==============================] - 1s 72ms/step\n",
      "Predicted classes: [1 1 1 0 0 1 1 1 0 0 1 1 1 1 1 0 1 0 1 1 1 1 1 0 0 1 0 1 0 1 0 1 1 1 0 1 1\n",
      " 1 1 0 1 1 1 0 1 1 0 0 1 1 1 1 1 1 1 1 1 0 1 0 0 1 1 1 1 1 0 1 0 1 1 0 1 1\n",
      " 1 1 1 1 1 0 1 1 1 1 1 1 1 0 1 1 1 1 1 1 1 1 1 0 1 1 0 1 1 0 1 0 1 1 0 1 1\n",
      " 0 0 1 1 1 0 1 1 1 1 1 1 0 1 1 1 1 0 1 1 1 0 0 1 1 1 1 0 1 1 1 1 0 0 1 1 0\n",
      " 1 1 0 1 1 1 1 1 1]\n",
      "(108, 224, 224, 3)\n",
      "4/4 [==============================] - 1s 71ms/step\n",
      "Predicted classes: [0 1 0 0 0 1 1 1 1 1 1 1 1 0 1 1 1 0 0 1 1 1 1 0 1 0 1 0 0 1 1 1 1 0 0 1 1\n",
      " 1 1 1 0 0 1 1 1 1 1 1 1 1 1 1 1 1 0 1 1 1 1 1 1 1 0 1 1 1 1 1 1 1 1 1 1 1\n",
      " 1 1 1 1 1 1 1 0 1 1 1 1 1 1 0 1 1 1 1 1 1 1 0 1 1 0 1 1 1 1 1 0 0 1]\n",
      "(57, 224, 224, 3)\n",
      "2/2 [==============================] - 2s 197ms/step\n",
      "Predicted classes: [0 1 1 1 1 1 1 1 1 1 0 0 1 0 1 1 1 0 0 1 1 1 0 0 1 1 1 0 0 0 1 1 1 1 1 1 0\n",
      " 1 0 0 0 1 1 0 1 0 0 0 1 1 1 0 1 1 0 1 1]\n",
      "(143, 224, 224, 3)\n",
      "5/5 [==============================] - 1s 62ms/step\n",
      "Predicted classes: [0 1 0 0 1 1 1 0 1 1 0 1 1 0 1 0 0 1 0 1 1 1 1 0 0 0 1 1 0 1 1 1 0 1 1 0 0\n",
      " 0 0 1 1 1 1 1 1 1 0 1 1 0 0 0 1 0 1 0 0 0 0 1 0 0 0 0 0 0 0 0 0 1 1 0 1 0\n",
      " 0 1 1 0 1 0 1 0 0 1 1 0 1 1 1 1 1 0 1 1 1 1 1 1 1 1 1 1 1 0 0 1 1 1 1 1 1\n",
      " 1 0 0 0 1 1 1 1 1 1 1 0 1 1 1 1 1 1 0 1 1 1 1 1 1 1 1 1 1 1 1 1]\n",
      "(130, 224, 224, 3)\n",
      "5/5 [==============================] - 2s 61ms/step\n",
      "Predicted classes: [0 1 0 1 1 0 1 0 1 1 0 1 1 1 1 1 1 1 1 1 1 0 1 1 1 1 1 1 1 1 1 0 1 1 1 0 1\n",
      " 1 1 1 1 1 1 1 1 1 1 1 1 1 1 1 1 1 1 0 1 0 0 1 1 1 1 1 1 1 1 1 0 1 1 1 1 1\n",
      " 1 1 1 1 0 1 0 1 1 0 1 1 0 0 1 1 1 0 0 1 1 1 1 1 1 1 1 1 1 1 0 1 1 0 1 1 1\n",
      " 0 1 1 0 1 1 1 0 1 1 0 0 1 1 1 1 1 1 1]\n",
      "(134, 224, 224, 3)\n",
      "5/5 [==============================] - 1s 55ms/step\n",
      "Predicted classes: [1 0 1 1 1 1 1 1 1 1 0 1 1 1 1 1 1 1 1 1 0 0 0 0 0 1 1 1 1 1 0 1 1 1 1 0 1\n",
      " 1 1 1 1 1 1 1 0 1 1 1 1 1 1 1 1 1 1 1 1 1 1 1 1 1 1 1 0 1 0 1 1 1 1 1 1 1\n",
      " 1 1 1 1 1 1 1 1 1 1 1 1 1 1 0 1 1 1 1 1 1 1 1 0 1 1 1 1 1 1 1 1 1 1 1 1 1\n",
      " 1 1 1 1 0 1 0 1 1 1 1 1 1 1 1 1 1 1 1 1 0 1 1]\n",
      "(231, 224, 224, 3)\n",
      "8/8 [==============================] - 2s 44ms/step\n",
      "Predicted classes: [1 1 1 1 1 1 1 1 1 1 1 0 1 1 1 1 1 1 1 1 1 1 1 1 1 1 1 1 0 1 1 1 1 1 1 1 0\n",
      " 1 1 1 0 1 0 0 1 1 1 1 1 1 1 1 1 1 0 1 1 1 1 1 1 1 1 1 1 1 1 1 1 1 1 1 0 1\n",
      " 1 1 1 0 1 1 1 1 1 1 1 1 1 1 1 1 1 1 1 1 1 0 1 0 1 1 1 1 1 1 1 1 1 1 1 1 1\n",
      " 1 1 1 1 1 1 1 1 1 1 1 1 1 1 1 1 1 1 1 1 1 1 1 0 1 1 1 1 1 1 1 0 1 1 1 0 1\n",
      " 1 1 1 1 1 1 0 1 1 1 1 0 1 1 1 0 1 1 0 0 0 1 1 1 1 0 1 1 1 0 1 1 1 1 1 1 1\n",
      " 1 1 1 1 1 1 1 0 1 1 1 1 1 0 1 1 1 1 0 1 1 1 1 1 1 1 1 1 1 1 1 1 1 1 0 1 1\n",
      " 1 0 1 1 1 1 1 0 1]\n",
      "(27, 224, 224, 3)\n",
      "1/1 [==============================] - 2s 2s/step\n",
      "Predicted classes: [0 0 1 1 1 0 0 1 0 0 1 1 1 1 1 1 1 0 1 0 1 0 1 0 1 0 1]\n",
      "(53, 224, 224, 3)\n",
      "2/2 [==============================] - 1s 181ms/step\n",
      "Predicted classes: [0 1 1 0 1 1 1 1 1 1 1 0 1 1 1 1 1 0 0 0 0 1 1 1 1 1 0 0 1 0 0 0 1 0 1 1 1\n",
      " 0 1 1 0 1 0 1 1 1 0 0 0 1 1 1 1]\n",
      "(79, 224, 224, 3)\n",
      "3/3 [==============================] - 1s 29ms/step\n",
      "Predicted classes: [1 1 0 1 1 1 0 0 1 1 1 1 1 1 1 1 1 1 1 1 0 1 0 1 1 0 1 1 1 1 1 1 1 0 1 1 1\n",
      " 0 1 1 0 0 1 1 1 0 1 1 1 0 0 1 1 1 1 0 1 1 1 1 1 1 1 1 1 0 1 0 1 1 0 1 1 1\n",
      " 1 1 1 1 1]\n",
      "(23, 224, 224, 3)\n",
      "WARNING:tensorflow:5 out of the last 15 calls to <function Model.make_predict_function.<locals>.predict_function at 0x7f57317fb760> triggered tf.function retracing. Tracing is expensive and the excessive number of tracings could be due to (1) creating @tf.function repeatedly in a loop, (2) passing tensors with different shapes, (3) passing Python objects instead of tensors. For (1), please define your @tf.function outside of the loop. For (2), @tf.function has reduce_retracing=True option that can avoid unnecessary retracing. For (3), please refer to https://www.tensorflow.org/guide/function#controlling_retracing and https://www.tensorflow.org/api_docs/python/tf/function for  more details.\n",
      "1/1 [==============================] - 1s 1s/step\n",
      "Predicted classes: [1 1 1 1 1 1 1 0 1 0 1 0 1 0 0 1 1 1 1 0 0 1 1]\n",
      "(78, 224, 224, 3)\n",
      "WARNING:tensorflow:6 out of the last 16 calls to <function Model.make_predict_function.<locals>.predict_function at 0x7f58dfb59990> triggered tf.function retracing. Tracing is expensive and the excessive number of tracings could be due to (1) creating @tf.function repeatedly in a loop, (2) passing tensors with different shapes, (3) passing Python objects instead of tensors. For (1), please define your @tf.function outside of the loop. For (2), @tf.function has reduce_retracing=True option that can avoid unnecessary retracing. For (3), please refer to https://www.tensorflow.org/guide/function#controlling_retracing and https://www.tensorflow.org/api_docs/python/tf/function for  more details.\n",
      "3/3 [==============================] - 1s 91ms/step\n",
      "Predicted classes: [1 1 1 0 0 1 0 0 1 0 1 1 0 1 1 1 1 0 1 0 1 1 1 0 0 1 1 0 0 1 1 0 1 1 0 0 1\n",
      " 1 1 1 0 0 1 0 1 1 0 1 1 1 1 0 1 1 1 0 1 1 1 0 1 1 1 1 0 0 1 1 1 1 0 0 0 0\n",
      " 0 0 1 0]\n",
      "(51, 224, 224, 3)\n",
      "2/2 [==============================] - 1s 194ms/step\n",
      "Predicted classes: [0 1 1 1 1 1 1 0 1 1 0 0 0 0 1 1 0 1 1 1 1 1 1 1 1 1 0 0 0 0 1 0 1 1 1 1 1\n",
      " 1 0 0 0 1 1 1 1 1 0 1 1 0 1]\n",
      "(50, 224, 224, 3)\n",
      "2/2 [==============================] - 1s 171ms/step\n",
      "Predicted classes: [1 1 0 1 1 1 1 1 1 1 0 1 0 1 0 0 0 1 0 1 0 1 1 1 1 0 1 1 1 1 1 1 1 1 1 1 1\n",
      " 1 1 1 1 1 0 1 1 1 1 0 1 0]\n",
      "(103, 224, 224, 3)\n",
      "4/4 [==============================] - 1s 30ms/step\n",
      "Predicted classes: [1 1 1 1 0 1 1 0 1 0 1 1 1 1 0 1 1 0 0 1 0 0 1 1 1 1 1 1 1 1 0 1 1 0 0 1 0\n",
      " 1 1 1 1 0 0 0 0 0 1 1 0 1 1 1 1 1 1 1 1 1 1 1 1 1 1 1 0 1 1 1 1 1 1 1 1 0\n",
      " 1 0 0 0 1 1 1 1 1 0 1 0 0 1 0 1 1 1 1 0 1 1 1 0 0 1 0 0 1]\n",
      "(41, 224, 224, 3)\n",
      "2/2 [==============================] - 1s 147ms/step\n",
      "Predicted classes: [1 1 1 1 1 1 0 1 1 0 0 1 0 1 1 1 0 1 1 1 0 0 0 1 1 0 0 1 0 1 1 1 1 1 1 0 1\n",
      " 1 1 1 0]\n",
      "(44, 224, 224, 3)\n",
      "2/2 [==============================] - 1s 34ms/step\n",
      "Predicted classes: [1 1 1 1 1 0 1 1 0 1 0 1 0 1 1 1 0 0 1 1 0 1 0 0 0 1 1 0 1 1 0 1 1 1 0 1 1\n",
      " 1 1 1 0 1 0 1]\n",
      "(111, 224, 224, 3)\n",
      "4/4 [==============================] - 1s 27ms/step\n",
      "Predicted classes: [1 1 1 1 1 1 1 1 1 1 0 1 1 0 1 1 1 1 1 1 1 1 1 1 1 1 1 1 1 1 1 1 1 1 1 1 1\n",
      " 1 1 1 1 1 1 1 1 1 1 1 1 1 1 1 1 1 1 1 1 0 1 0 0 1 1 1 1 1 1 1 1 1 1 1 1 1\n",
      " 1 1 1 1 1 1 0 1 1 1 1 1 1 0 1 1 0 1 1 1 1 1 1 1 1 1 0 1 0 1 1 1 1 1 1 1 1]\n",
      "(155, 224, 224, 3)\n",
      "5/5 [==============================] - 1s 27ms/step\n",
      "Predicted classes: [1 1 0 0 1 0 1 1 0 1 1 1 1 1 1 1 1 1 0 0 0 0 0 0 1 1 1 0 1 1 1 0 0 1 1 0 0\n",
      " 1 0 1 1 1 0 0 1 0 0 0 0 1 0 0 1 1 1 1 1 1 0 0 0 1 1 1 0 1 1 0 0 0 0 1 1 0\n",
      " 1 1 1 0 1 1 1 0 1 0 1 0 1 0 1 1 1 1 1 1 1 1 1 1 0 1 1 1 1 1 1 1 1 1 1 1 1\n",
      " 1 1 1 1 0 1 1 1 0 1 0 1 0 1 1 1 1 1 1 1 1 1 0 1 1 1 1 1 0 0 0 0 1 1 0 0 0\n",
      " 0 1 0 1 0 0 0]\n",
      "(256, 224, 224, 3)\n",
      "8/8 [==============================] - 1s 27ms/step\n",
      "Predicted classes: [1 1 1 1 1 1 1 1 1 0 1 1 1 1 1 1 1 1 0 1 1 1 1 1 1 1 1 1 1 1 1 1 1 1 1 1 1\n",
      " 1 1 1 1 1 1 1 1 0 1 1 1 1 1 1 1 1 1 1 1 1 1 1 1 1 1 1 1 1 1 1 1 1 1 1 1 1\n",
      " 1 1 1 1 0 1 0 1 1 1 1 1 1 1 1 1 1 1 1 0 1 1 0 0 1 1 1 1 1 0 1 0 0 1 1 0 1\n",
      " 1 1 1 1 1 1 1 1 1 1 1 0 1 1 1 1 1 1 1 0 1 1 1 1 1 1 1 1 0 1 1 1 1 1 1 1 1\n",
      " 1 1 1 1 1 1 1 0 0 1 1 1 0 0 1 1 1 1 1 1 1 1 1 1 1 1 1 1 1 0 1 0 1 1 1 1 1\n",
      " 1 1 1 1 0 1 1 0 1 1 1 1 1 1 1 1 1 1 0 1 1 1 0 1 1 1 1 1 1 1 1 1 1 1 1 1 1\n",
      " 0 0 1 1 0 0 1 1 1 1 1 1 1 1 1 0 1 1 1 1 1 0 1 1 1 0 1 1 1 1 1 0 1 1]\n",
      "(123, 224, 224, 3)\n",
      "4/4 [==============================] - 1s 26ms/step\n",
      "Predicted classes: [1 1 0 0 0 0 1 0 1 0 1 1 1 1 1 0 0 0 1 0 1 1 1 1 1 0 1 1 0 0 1 0 0 0 1 0 0\n",
      " 0 0 0 0 0 1 0 0 0 1 0 0 0 1 0 1 0 1 1 1 0 1 1 1 0 1 1 1 1 1 0 0 1 0 1 0 1\n",
      " 1 0 0 1 1 1 1 0 1 0 1 1 1 1 1 1 1 1 1 1 1 1 1 0 1 1 0 1 1 0 1 1 0 0 1 1 1\n",
      " 1 0 1 1 1 0 1 1 1 1 0 0]\n",
      "(68, 224, 224, 3)\n",
      "3/3 [==============================] - 1s 93ms/step\n",
      "Predicted classes: [1 1 1 1 1 1 1 1 0 0 0 1 1 1 0 0 0 0 1 1 1 0 0 1 0 0 0 0 1 1 1 1 0 0 1 0 0\n",
      " 1 1 1 1 0 0 0 1 0 1 1 0 1 0 1 1 0 1 1 1 1 0 0 1 1 1 0 0 0 1 1]\n",
      "(103, 224, 224, 3)\n",
      "4/4 [==============================] - 2s 28ms/step\n",
      "Predicted classes: [1 1 1 0 1 1 1 1 1 1 1 0 1 1 1 0 1 1 0 1 1 1 1 1 1 1 1 1 0 0 0 1 1 1 1 1 1\n",
      " 1 0 0 1 1 1 1 1 1 1 1 1 0 1 0 1 1 0 1 0 1 1 1 0 1 0 0 1 1 1 1 1 0 1 1 0 0\n",
      " 1 1 1 1 1 1 1 1 1 1 1 1 1 1 1 1 1 1 1 0 1 1 0 1 1 1 0 0 1]\n"
     ]
    },
    {
     "name": "stdout",
     "output_type": "stream",
     "text": [
      "(25, 224, 224, 3)\n",
      "1/1 [==============================] - 1s 1s/step\n",
      "Predicted classes: [1 1 1 1 1 1 1 1 1 1 0 1 1 1 0 0 1 1 0 1 1 1 1 1 1]\n",
      "(143, 224, 224, 3)\n",
      "5/5 [==============================] - 1s 26ms/step\n",
      "Predicted classes: [0 1 1 0 1 1 1 1 1 1 1 0 1 1 1 1 1 1 1 0 1 0 1 1 1 1 1 1 0 1 1 1 1 1 1 1 1\n",
      " 1 1 1 1 1 1 1 0 1 1 0 1 1 1 1 1 0 1 1 1 1 1 0 1 1 1 1 1 1 1 1 1 0 1 1 1 1\n",
      " 0 1 1 1 0 0 1 1 1 0 0 0 0 0 0 1 0 0 1 1 1 1 0 1 1 0 1 0 1 0 0 1 1 1 1 1 1\n",
      " 1 1 1 0 1 1 1 1 1 0 1 1 1 1 0 1 1 1 0 1 1 0 1 0 1 1 1 1 1 1 1 1]\n",
      "(42, 224, 224, 3)\n",
      "2/2 [==============================] - 1s 161ms/step\n",
      "Predicted classes: [0 1 0 1 1 1 1 0 1 1 1 0 1 1 1 1 0 1 1 1 1 1 1 1 1 0 1 1 1 1 1 1 1 0 0 0 1\n",
      " 1 1 1 1 0]\n",
      "(109, 224, 224, 3)\n",
      "4/4 [==============================] - 2s 71ms/step\n",
      "Predicted classes: [1 1 1 1 1 0 1 1 0 1 1 1 1 0 1 1 1 1 1 1 1 1 1 0 1 0 1 0 1 1 1 0 0 1 0 0 1\n",
      " 1 1 0 0 0 1 1 0 1 1 1 0 0 0 1 1 1 1 1 1 1 1 1 1 1 1 1 1 1 1 1 1 1 1 1 1 1\n",
      " 1 1 1 1 1 1 1 1 1 0 0 1 0 0 0 0 1 1 1 1 1 0 0 1 0 0 0 1 0 1 0 1 1 1 1]\n",
      "(147, 224, 224, 3)\n",
      "5/5 [==============================] - 1s 26ms/step\n",
      "Predicted classes: [1 1 1 1 1 1 1 1 1 1 0 1 1 1 1 0 1 0 1 0 1 1 1 1 1 1 1 1 0 1 1 0 1 1 1 1 1\n",
      " 1 1 1 1 1 1 1 1 1 1 1 1 0 1 0 1 1 1 1 1 1 1 1 1 1 1 1 1 1 1 1 1 0 1 0 0 0\n",
      " 1 1 1 0 1 1 1 1 0 1 0 1 1 1 1 0 1 1 1 1 0 1 1 1 1 0 0 1 0 1 1 0 1 0 1 1 0\n",
      " 1 1 0 1 1 1 0 1 1 0 1 1 1 1 1 1 1 0 1 0 1 1 0 1 1 1 1 1 1 1 1 1 1 1 1 1]\n",
      "(147, 224, 224, 3)\n",
      "5/5 [==============================] - 1s 29ms/step\n",
      "Predicted classes: [1 1 1 1 1 1 0 1 0 0 1 1 0 0 1 1 1 1 1 1 1 0 1 1 1 1 1 1 1 1 1 1 1 1 1 0 1\n",
      " 0 1 1 1 1 1 0 1 1 1 1 1 1 1 1 1 1 1 1 1 0 1 1 0 1 1 1 1 1 1 1 0 1 1 1 0 0\n",
      " 1 1 1 0 1 1 1 0 1 1 0 1 1 1 1 1 1 1 1 1 1 1 1 0 0 1 1 1 1 1 1 1 0 1 1 0 1\n",
      " 1 1 1 1 1 0 0 1 1 1 1 1 1 1 1 1 1 1 1 1 0 0 1 1 1 1 1 1 1 1 1 1 1 1 1 1]\n"
     ]
    }
   ],
   "source": [
    "current_path = directory_path\n",
    "model_path = current_path / 'ipynb_swallowing' / '20240220_binary_ep50_bs32_v2.keras'\n",
    "for wav in wavs:\n",
    "    wav.predict(model_path, 2)"
   ]
  },
  {
   "cell_type": "markdown",
   "id": "c0b4317f",
   "metadata": {},
   "source": [
    "## 結果をdfに格納"
   ]
  },
  {
   "cell_type": "code",
   "execution_count": 20,
   "id": "f74866b0",
   "metadata": {},
   "outputs": [],
   "source": [
    "start_arrays = []\n",
    "end_arrays = []\n",
    "for wav in wavs:\n",
    "    start_arrays.append(wav.swallowing_start_idxs/44100)\n",
    "    start_arrays.append(wav.swallowing_end_idxs/44100)"
   ]
  },
  {
   "cell_type": "code",
   "execution_count": 23,
   "id": "7256beb7",
   "metadata": {},
   "outputs": [],
   "source": [
    "section_start_times = []\n",
    "section_end_times = []\n",
    "\n",
    "for start_array, end_array in zip(start_arrays, end_arrays):\n",
    "    for i in range(len(sections) - 1):\n",
    "        # セクション内での嚥下の開始と終了時間を抽出\n",
    "        mask = (start_array >= sections[i]) & (start_array < sections[i + 1])    \n",
    "        section_start_times.append(start_array[mask]) \n",
    "        section_end_times.append(end_array[mask])"
   ]
  },
  {
   "cell_type": "code",
   "execution_count": 41,
   "id": "2f5e6696",
   "metadata": {},
   "outputs": [],
   "source": [
    "sections = np.arange(480, 601, 120)\n",
    "\n",
    "df = pd.DataFrame({'wav_file': wav_files})\n",
    "for start_time, end_time in zip(section_start_times, section_end_times):    \n",
    "    for i in range(30):    \n",
    "        df[f'start_{i+1}'] = df.apply(lambda row, i=i: section_start_times[row.name][i] if i < len(section_start_times[row.name]) else np.nan, axis=1)\n",
    "        df[f'end_{i+1}'] = df.apply(lambda row, i=i: section_end_times[row.name][i] if i < len(section_end_times[row.name]) else np.nan, axis=1)\n",
    "# print(df)"
   ]
  },
  {
   "cell_type": "markdown",
   "id": "b5b24e3f",
   "metadata": {},
   "source": [
    "## CSV出力"
   ]
  },
  {
   "cell_type": "code",
   "execution_count": 42,
   "id": "90991777",
   "metadata": {},
   "outputs": [],
   "source": [
    "df.to_csv('30data.csv', index=False)"
   ]
  },
  {
   "cell_type": "code",
   "execution_count": null,
   "id": "04c35381",
   "metadata": {},
   "outputs": [],
   "source": []
  }
 ],
 "metadata": {
  "kernelspec": {
   "display_name": "s2-washino",
   "language": "python",
   "name": "washino"
  },
  "language_info": {
   "codemirror_mode": {
    "name": "ipython",
    "version": 3
   },
   "file_extension": ".py",
   "mimetype": "text/x-python",
   "name": "python",
   "nbconvert_exporter": "python",
   "pygments_lexer": "ipython3",
   "version": "3.10.13"
  }
 },
 "nbformat": 4,
 "nbformat_minor": 5
}
