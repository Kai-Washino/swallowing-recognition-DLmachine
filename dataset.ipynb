{
 "cells": [
  {
   "cell_type": "code",
   "execution_count": 10,
   "id": "7751a109",
   "metadata": {},
   "outputs": [],
   "source": [
    "import numpy as np\n",
    "import cv2  # OpenCVライブラリ\n",
    "import matplotlib.pyplot as plt\n",
    "from matplotlib.colors import Normalize\n",
    "import os\n",
    "import sys"
   ]
  },
  {
   "cell_type": "code",
   "execution_count": 11,
   "id": "9417d982",
   "metadata": {},
   "outputs": [],
   "source": [
    "current_dir = os.getcwd()\n",
    "parent_dir = os.path.dirname(current_dir)\n",
    "sys.path.append(parent_dir)\n",
    "import swallowing_recognition"
   ]
  },
  {
   "cell_type": "code",
   "execution_count": 13,
   "id": "b50ce506",
   "metadata": {},
   "outputs": [],
   "source": [
    "from swallowing_recognition import wavelet\n",
    "from swallowing_recognition import audio\n",
    "from swallowing_recognition import dataset"
   ]
  },
  {
   "cell_type": "code",
   "execution_count": 14,
   "id": "17afdbbc",
   "metadata": {},
   "outputs": [
    {
     "name": "stdout",
     "output_type": "stream",
     "text": [
      "(1, 224, 224, 3)\n",
      "0.0\n",
      "[[0. 1. 0.]]\n"
     ]
    }
   ],
   "source": [
    "wav1 = audio.Audio(parent_dir + '/dataset/washino/swallowing/swallowing1.wav')\n",
    "swallowing1 = wavelet.Wavelet(wav1.sample_rate, wav1.trimmed_data, )\n",
    "coefficients, _ =  swallowing1.generate_coefficients()\n",
    "data = dataset.DataSet(1, 224, 224, 3, 3)\n",
    "label = np.array([0, 1, 0])\n",
    "data.add_to_dataset(0, coefficients, label,)\n",
    "print(data.data.shape)\n",
    "print(data.data[0][1][100][0])\n",
    "print(data.labels)"
   ]
  }
 ],
 "metadata": {
  "kernelspec": {
   "display_name": "s2-washino",
   "language": "python",
   "name": "washino"
  },
  "language_info": {
   "codemirror_mode": {
    "name": "ipython",
    "version": 3
   },
   "file_extension": ".py",
   "mimetype": "text/x-python",
   "name": "python",
   "nbconvert_exporter": "python",
   "pygments_lexer": "ipython3",
   "version": "3.10.13"
  }
 },
 "nbformat": 4,
 "nbformat_minor": 5
}
