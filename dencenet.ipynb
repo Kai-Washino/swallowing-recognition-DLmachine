{
 "cells": [
  {
   "cell_type": "code",
   "execution_count": 1,
   "id": "2e8b2252",
   "metadata": {},
   "outputs": [
    {
     "name": "stderr",
     "output_type": "stream",
     "text": [
      "2024-01-30 19:26:48.049441: I tensorflow/core/util/port.cc:110] oneDNN custom operations are on. You may see slightly different numerical results due to floating-point round-off errors from different computation orders. To turn them off, set the environment variable `TF_ENABLE_ONEDNN_OPTS=0`.\n",
      "2024-01-30 19:26:48.091020: I tensorflow/core/platform/cpu_feature_guard.cc:182] This TensorFlow binary is optimized to use available CPU instructions in performance-critical operations.\n",
      "To enable the following instructions: AVX2 AVX512F AVX512_VNNI FMA, in other operations, rebuild TensorFlow with the appropriate compiler flags.\n",
      "2024-01-30 19:26:48.767285: W tensorflow/compiler/tf2tensorrt/utils/py_utils.cc:38] TF-TRT Warning: Could not find TensorRT\n"
     ]
    }
   ],
   "source": [
    "from tensorflow.keras.applications import DenseNet121\n",
    "from tensorflow.keras.layers import Dense, GlobalAveragePooling2D\n",
    "from tensorflow.keras.models import Model\n",
    "from tensorflow.keras.utils import to_categorical\n",
    "from tensorflow.keras.callbacks import EarlyStopping\n",
    "from tensorflow.keras.callbacks import ModelCheckpoint"
   ]
  },
  {
   "cell_type": "code",
   "execution_count": 2,
   "id": "e3e67d1b",
   "metadata": {},
   "outputs": [],
   "source": [
    "import numpy as np\n",
    "import cv2  # OpenCVライブラリ\n",
    "import matplotlib.pyplot as plt\n",
    "from matplotlib.colors import Normalize\n",
    "import os\n",
    "import sys\n",
    "import pathlib\n",
    "from pathlib import Path"
   ]
  },
  {
   "cell_type": "code",
   "execution_count": 3,
   "id": "3a3c99cf",
   "metadata": {},
   "outputs": [],
   "source": [
    "current_dir = os.getcwd()\n",
    "parent_dir = os.path.dirname(current_dir)\n",
    "sys.path.append(parent_dir)\n",
    "import swallowing_recognition"
   ]
  },
  {
   "cell_type": "code",
   "execution_count": 4,
   "id": "3cf79920",
   "metadata": {},
   "outputs": [],
   "source": [
    "current_file_path = pathlib.Path(os.getcwd())\n",
    "parent_dir = current_file_path.parent"
   ]
  },
  {
   "cell_type": "code",
   "execution_count": 5,
   "id": "8ef8ea8d",
   "metadata": {},
   "outputs": [],
   "source": [
    "from swallowing_recognition import wavelet\n",
    "from swallowing_recognition import audio\n",
    "from swallowing_recognition import dataset\n",
    "from swallowing_recognition import dence_net"
   ]
  },
  {
   "cell_type": "code",
   "execution_count": null,
   "id": "8caee189",
   "metadata": {},
   "outputs": [],
   "source": [
    "directory_path = parent_dir / 'dataset'\n",
    "   \n",
    "train_voice_folder = directory_path / 'washino' / 'voice'\n",
    "train_cough_folder = directory_path / 'washino' / 'cough'\n",
    "train_swallowing_folder = directory_path / 'washino' / 'swallowing'   \n",
    "train_movement_folder = directory_path / 'washino' / 'movement'   \n",
    "train_hitting_folder = directory_path / 'washino' / 'hitting'   \n",
    "\n",
    "test_voice_folder = directory_path / 'shibata' / 'voice'\n",
    "test_cough_folder = directory_path / 'shibata' / 'cough'\n",
    "test_swallowing_folder = directory_path / 'shibata' / 'swallowing'    \n",
    "\n",
    "# 引数は(データ数，画像サイズ縦，画像サイズ横，色RGB，クラス数)\n",
    "train_data = dataset.DataSet(500, 224, 224, 3, 5)\n",
    "test_data = dataset.DataSet(70, 224, 224, 3, 5)\n",
    "\n",
    "\n",
    "train_data.folder_to_dataset(train_voice_folder, np.array([0, 0, 0, 0, 1]), 0)\n",
    "train_data.folder_to_dataset(train_cough_folder, np.array([0, 0, 0, 1, 0]), 1)\n",
    "train_data.folder_to_dataset(train_swallowing_folder, np.array([0, 0, 1, 0, 0]), 2)\n",
    "train_data.folder_to_dataset(train_movement_folder, np.array([0, 1, 0, 0, 0]), 3)\n",
    "train_data.folder_to_dataset(train_hitting_folder, np.array([1, 0, 0, 0, 0]), 4)\n",
    "\n",
    "test_data.folder_to_dataset(test_voice_folder, np.array([0, 0, 0, 0, 1]), 0)\n",
    "test_data.folder_to_dataset(test_cough_folder, np.array([0, 0, 0, 1, 0]), 1)\n",
    "test_data.folder_to_dataset(test_swallowing_folder, np.array([0, 0, 1, 0, 0]), 2)\n",
    "test_data.folder_to_dataset(test_cough_folder, np.array([0, 0, 0, 1, 0]), 3)\n",
    "test_data.folder_to_dataset(test_swallowing_folder, np.array([0, 0, 1, 0, 0]), 4)"
   ]
  },
  {
   "cell_type": "code",
   "execution_count": null,
   "id": "429b5f41",
   "metadata": {},
   "outputs": [
    {
     "name": "stdout",
     "output_type": "stream",
     "text": [
      "Epoch 1/32\n",
      "15/15 [==============================] - 50s 193ms/step - loss: 1.0049 - accuracy: 0.6622 - val_loss: 10.7373 - val_accuracy: 0.3600\n",
      "Epoch 2/32\n",
      "15/15 [==============================] - 2s 109ms/step - loss: 0.5162 - accuracy: 0.8089 - val_loss: 43.8085 - val_accuracy: 0.2000\n",
      "Epoch 3/32\n",
      "15/15 [==============================] - 1s 100ms/step - loss: 0.5144 - accuracy: 0.8311 - val_loss: 22.8261 - val_accuracy: 0.2800\n",
      "Epoch 4/32\n",
      "15/15 [==============================] - 2s 103ms/step - loss: 0.4166 - accuracy: 0.8511 - val_loss: 6.2583 - val_accuracy: 0.4400\n",
      "Epoch 5/32\n",
      "15/15 [==============================] - 2s 105ms/step - loss: 0.3137 - accuracy: 0.8844 - val_loss: 5.0732 - val_accuracy: 0.3000\n",
      "Epoch 6/32\n",
      "15/15 [==============================] - 1s 100ms/step - loss: 0.3658 - accuracy: 0.8756 - val_loss: 4.6162 - val_accuracy: 0.3600\n",
      "Epoch 7/32\n",
      "15/15 [==============================] - 2s 102ms/step - loss: 0.2779 - accuracy: 0.9111 - val_loss: 5.3067 - val_accuracy: 0.5400\n",
      "Epoch 8/32\n",
      "15/15 [==============================] - 2s 104ms/step - loss: 0.2963 - accuracy: 0.9022 - val_loss: 16.7404 - val_accuracy: 0.4200\n",
      "Epoch 9/32\n",
      "15/15 [==============================] - 2s 102ms/step - loss: 0.2915 - accuracy: 0.8889 - val_loss: 5.5145 - val_accuracy: 0.6000\n",
      "Epoch 10/32\n",
      "15/15 [==============================] - 2s 103ms/step - loss: 0.2470 - accuracy: 0.9178 - val_loss: 6.6790 - val_accuracy: 0.3600\n",
      "Epoch 11/32\n",
      "15/15 [==============================] - 2s 102ms/step - loss: 0.1252 - accuracy: 0.9644 - val_loss: 5.8823 - val_accuracy: 0.5400\n",
      "Epoch 12/32\n",
      "15/15 [==============================] - 1s 100ms/step - loss: 0.1599 - accuracy: 0.9511 - val_loss: 3.1494 - val_accuracy: 0.7600\n",
      "Epoch 13/32\n",
      "15/15 [==============================] - 2s 104ms/step - loss: 0.1506 - accuracy: 0.9422 - val_loss: 1.3206 - val_accuracy: 0.7800\n",
      "Epoch 14/32\n",
      "15/15 [==============================] - 2s 104ms/step - loss: 0.1403 - accuracy: 0.9422 - val_loss: 5.1877 - val_accuracy: 0.5000\n",
      "Epoch 15/32\n",
      "15/15 [==============================] - 2s 101ms/step - loss: 0.0940 - accuracy: 0.9733 - val_loss: 3.6907 - val_accuracy: 0.7000\n",
      "Epoch 16/32\n",
      "15/15 [==============================] - 2s 103ms/step - loss: 0.0472 - accuracy: 0.9933 - val_loss: 1.5713 - val_accuracy: 0.7400\n",
      "Epoch 17/32\n",
      "15/15 [==============================] - 2s 104ms/step - loss: 0.2033 - accuracy: 0.9133 - val_loss: 3.3411 - val_accuracy: 0.5800\n",
      "Epoch 18/32\n",
      " 5/15 [=========>....................] - ETA: 1s - loss: 0.4234 - accuracy: 0.8500"
     ]
    }
   ],
   "source": [
    "model = dence_net.DanceNet(5)\n",
    "# 引数は(トレーニングデータ，ラベル，epochs，batch_size)\n",
    "model.training(train_data.data, train_data.labels, 32, 32)\n",
    "model.evaluate(test_data.data, test_data.labels)\n",
    "model.save('20240130_ep150_bs16.keras')"
   ]
  },
  {
   "cell_type": "code",
   "execution_count": null,
   "id": "6cff26a6",
   "metadata": {},
   "outputs": [],
   "source": []
  }
 ],
 "metadata": {
  "kernelspec": {
   "display_name": "s2-washino",
   "language": "python",
   "name": "washino"
  },
  "language_info": {
   "codemirror_mode": {
    "name": "ipython",
    "version": 3
   },
   "file_extension": ".py",
   "mimetype": "text/x-python",
   "name": "python",
   "nbconvert_exporter": "python",
   "pygments_lexer": "ipython3",
   "version": "3.10.13"
  }
 },
 "nbformat": 4,
 "nbformat_minor": 5
}
