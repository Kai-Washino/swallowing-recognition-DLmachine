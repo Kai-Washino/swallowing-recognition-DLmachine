{
 "cells": [
  {
   "cell_type": "code",
   "execution_count": 1,
   "id": "2e8b2252",
   "metadata": {},
   "outputs": [
    {
     "name": "stderr",
     "output_type": "stream",
     "text": [
      "2024-01-30 17:05:58.656468: I tensorflow/core/util/port.cc:113] oneDNN custom operations are on. You may see slightly different numerical results due to floating-point round-off errors from different computation orders. To turn them off, set the environment variable `TF_ENABLE_ONEDNN_OPTS=0`.\n",
      "2024-01-30 17:05:58.659023: I external/local_tsl/tsl/cuda/cudart_stub.cc:31] Could not find cuda drivers on your machine, GPU will not be used.\n",
      "2024-01-30 17:05:58.692176: E external/local_xla/xla/stream_executor/cuda/cuda_dnn.cc:9261] Unable to register cuDNN factory: Attempting to register factory for plugin cuDNN when one has already been registered\n",
      "2024-01-30 17:05:58.692207: E external/local_xla/xla/stream_executor/cuda/cuda_fft.cc:607] Unable to register cuFFT factory: Attempting to register factory for plugin cuFFT when one has already been registered\n",
      "2024-01-30 17:05:58.693129: E external/local_xla/xla/stream_executor/cuda/cuda_blas.cc:1515] Unable to register cuBLAS factory: Attempting to register factory for plugin cuBLAS when one has already been registered\n",
      "2024-01-30 17:05:58.698389: I external/local_tsl/tsl/cuda/cudart_stub.cc:31] Could not find cuda drivers on your machine, GPU will not be used.\n",
      "2024-01-30 17:05:58.699046: I tensorflow/core/platform/cpu_feature_guard.cc:182] This TensorFlow binary is optimized to use available CPU instructions in performance-critical operations.\n",
      "To enable the following instructions: AVX2 AVX512F AVX512_VNNI FMA, in other operations, rebuild TensorFlow with the appropriate compiler flags.\n",
      "2024-01-30 17:05:59.407930: W tensorflow/compiler/tf2tensorrt/utils/py_utils.cc:38] TF-TRT Warning: Could not find TensorRT\n"
     ]
    }
   ],
   "source": [
    "from tensorflow.keras.applications import DenseNet121\n",
    "from tensorflow.keras.layers import Dense, GlobalAveragePooling2D\n",
    "from tensorflow.keras.models import Model\n",
    "from tensorflow.keras.utils import to_categorical\n",
    "from tensorflow.keras.callbacks import EarlyStopping\n",
    "from tensorflow.keras.callbacks import ModelCheckpoint"
   ]
  },
  {
   "cell_type": "code",
   "execution_count": 2,
   "id": "e3e67d1b",
   "metadata": {},
   "outputs": [],
   "source": [
    "import numpy as np\n",
    "import cv2  # OpenCVライブラリ\n",
    "import matplotlib.pyplot as plt\n",
    "from matplotlib.colors import Normalize\n",
    "import os\n",
    "import sys\n",
    "import pathlib\n",
    "from pathlib import Path"
   ]
  },
  {
   "cell_type": "code",
   "execution_count": 14,
   "id": "0923b406",
   "metadata": {},
   "outputs": [],
   "source": [
    "current_dir = os.getcwd()\n",
    "parent_dir = os.path.dirname(current_dir)\n",
    "sys.path.append(parent_dir)\n",
    "import swallowing_recognition"
   ]
  },
  {
   "cell_type": "code",
   "execution_count": 15,
   "id": "3cf79920",
   "metadata": {},
   "outputs": [],
   "source": [
    "current_file_path = pathlib.Path(os.getcwd())\n",
    "parent_dir = current_file_path.parent"
   ]
  },
  {
   "cell_type": "code",
   "execution_count": 7,
   "id": "241d1b23",
   "metadata": {},
   "outputs": [
    {
     "name": "stdout",
     "output_type": "stream",
     "text": [
      "/home/s2/Desktop/washino/swallowing-recognize\n"
     ]
    }
   ],
   "source": [
    "print(parent_dir)"
   ]
  },
  {
   "cell_type": "code",
   "execution_count": 16,
   "id": "8ef8ea8d",
   "metadata": {},
   "outputs": [],
   "source": [
    "from swallowing_recognition import wavelet\n",
    "from swallowing_recognition import audio\n",
    "from swallowing_recognition import dataset\n",
    "from swallowing_recognition import dence_net"
   ]
  },
  {
   "cell_type": "code",
   "execution_count": 21,
   "id": "429b5f41",
   "metadata": {},
   "outputs": [
    {
     "name": "stderr",
     "output_type": "stream",
     "text": [
      "2024-01-30 17:36:29.328791: W tensorflow/core/common_runtime/gpu/gpu_device.cc:2256] Cannot dlopen some GPU libraries. Please make sure the missing libraries mentioned above are installed properly if you would like to use GPU. Follow the guide at https://www.tensorflow.org/install/gpu for how to download and setup the required libraries for your platform.\n",
      "Skipping registering GPU devices...\n"
     ]
    },
    {
     "name": "stdout",
     "output_type": "stream",
     "text": [
      "Downloading data from https://storage.googleapis.com/tensorflow/keras-applications/densenet/densenet121_weights_tf_dim_ordering_tf_kernels_notop.h5\n",
      "29084464/29084464 [==============================] - 3s 0us/step\n",
      "Epoch 1/24\n",
      "15/15 [==============================] - 48s 2s/step - loss: 0.8783 - accuracy: 0.7067 - val_loss: 26.2766 - val_accuracy: 0.3600\n",
      "Epoch 2/24\n",
      "15/15 [==============================] - 26s 2s/step - loss: 0.3813 - accuracy: 0.8800 - val_loss: 10.7344 - val_accuracy: 0.4400\n",
      "Epoch 3/24\n",
      "15/15 [==============================] - 26s 2s/step - loss: 0.2350 - accuracy: 0.9133 - val_loss: 11.2025 - val_accuracy: 0.4800\n",
      "Epoch 4/24\n",
      "15/15 [==============================] - 27s 2s/step - loss: 0.1973 - accuracy: 0.9378 - val_loss: 11.1814 - val_accuracy: 0.2800\n",
      "Epoch 5/24\n",
      "15/15 [==============================] - 26s 2s/step - loss: 0.1088 - accuracy: 0.9600 - val_loss: 5.4250 - val_accuracy: 0.5200\n",
      "Epoch 6/24\n",
      "15/15 [==============================] - 26s 2s/step - loss: 0.1027 - accuracy: 0.9711 - val_loss: 5.9022 - val_accuracy: 0.5000\n",
      "Epoch 7/24\n",
      "15/15 [==============================] - 26s 2s/step - loss: 0.0907 - accuracy: 0.9667 - val_loss: 3.3662 - val_accuracy: 0.7800\n",
      "Epoch 8/24\n",
      "15/15 [==============================] - 26s 2s/step - loss: 0.0977 - accuracy: 0.9644 - val_loss: 4.1405 - val_accuracy: 0.6200\n",
      "Epoch 9/24\n",
      "15/15 [==============================] - 26s 2s/step - loss: 0.0896 - accuracy: 0.9667 - val_loss: 2.9052 - val_accuracy: 0.6800\n",
      "Epoch 10/24\n",
      "15/15 [==============================] - 27s 2s/step - loss: 0.0537 - accuracy: 0.9911 - val_loss: 1.4254 - val_accuracy: 0.8000\n",
      "Epoch 11/24\n",
      "15/15 [==============================] - 26s 2s/step - loss: 0.0728 - accuracy: 0.9711 - val_loss: 1.7501 - val_accuracy: 0.8000\n",
      "Epoch 12/24\n",
      "15/15 [==============================] - 27s 2s/step - loss: 0.0669 - accuracy: 0.9778 - val_loss: 2.2762 - val_accuracy: 0.7600\n",
      "Epoch 13/24\n",
      "15/15 [==============================] - 26s 2s/step - loss: 0.0579 - accuracy: 0.9822 - val_loss: 8.9886 - val_accuracy: 0.5000\n",
      "Epoch 14/24\n",
      "15/15 [==============================] - 26s 2s/step - loss: 0.0277 - accuracy: 0.9911 - val_loss: 1.2951 - val_accuracy: 0.7800\n",
      "Epoch 15/24\n",
      "15/15 [==============================] - 27s 2s/step - loss: 0.0248 - accuracy: 0.9956 - val_loss: 1.7585 - val_accuracy: 0.7800\n",
      "Epoch 16/24\n",
      "15/15 [==============================] - 26s 2s/step - loss: 0.0257 - accuracy: 0.9911 - val_loss: 2.1271 - val_accuracy: 0.7200\n",
      "Epoch 17/24\n",
      "15/15 [==============================] - 27s 2s/step - loss: 0.0127 - accuracy: 0.9956 - val_loss: 1.2761 - val_accuracy: 0.7800\n",
      "Epoch 18/24\n",
      "15/15 [==============================] - 26s 2s/step - loss: 0.0117 - accuracy: 0.9978 - val_loss: 1.3731 - val_accuracy: 0.7600\n",
      "Epoch 19/24\n",
      "15/15 [==============================] - 27s 2s/step - loss: 0.0042 - accuracy: 1.0000 - val_loss: 1.7944 - val_accuracy: 0.7400\n",
      "Epoch 20/24\n",
      "15/15 [==============================] - 26s 2s/step - loss: 0.0035 - accuracy: 1.0000 - val_loss: 1.8298 - val_accuracy: 0.7000\n",
      "Epoch 21/24\n",
      "15/15 [==============================] - 27s 2s/step - loss: 0.0154 - accuracy: 0.9956 - val_loss: 1.4784 - val_accuracy: 0.7800\n",
      "Epoch 22/24\n",
      "15/15 [==============================] - 27s 2s/step - loss: 0.0400 - accuracy: 0.9867 - val_loss: 0.7132 - val_accuracy: 0.8600\n",
      "Epoch 23/24\n",
      "15/15 [==============================] - 27s 2s/step - loss: 0.0666 - accuracy: 0.9711 - val_loss: 1.1957 - val_accuracy: 0.7400\n",
      "Epoch 24/24\n",
      "15/15 [==============================] - 26s 2s/step - loss: 0.1551 - accuracy: 0.9422 - val_loss: 2.0045 - val_accuracy: 0.5600\n",
      "3/3 [==============================] - 1s 309ms/step - loss: 1.4830 - accuracy: 0.8000\n",
      "Test accuracy:  0.800000011920929\n",
      "3/3 [==============================] - 2s 275ms/step\n",
      "正しく分類されたサンプルのインデックス: [ 1  2  3  4  5  6  7  8  9 10 11 12 13 14 15 16 17 18 19 21 23 26 27 28\n",
      " 29 31 32 33 34 36 37 38 39 40 41 43 46 47 48 49 51 52 53 54 56 57 58 59\n",
      " 61 62 63 64 66 67 68 69]\n",
      "誤って分類されたサンプルのインデックス: [ 0 20 22 24 25 30 35 42 44 45 50 55 60 65]\n",
      "サンプル 0: 正解 = 4, 予測 = 3\n",
      "サンプル 20: 正解 = 4, 予測 = 3\n",
      "サンプル 22: 正解 = 2, 予測 = 3\n",
      "サンプル 24: 正解 = 2, 予測 = 3\n",
      "サンプル 25: 正解 = 4, 予測 = 3\n",
      "サンプル 30: 正解 = 4, 予測 = 3\n",
      "サンプル 35: 正解 = 4, 予測 = 3\n",
      "サンプル 42: 正解 = 2, 予測 = 1\n",
      "サンプル 44: 正解 = 2, 予測 = 1\n",
      "サンプル 45: 正解 = 4, 予測 = 3\n",
      "サンプル 50: 正解 = 4, 予測 = 3\n",
      "サンプル 55: 正解 = 4, 予測 = 3\n",
      "サンプル 60: 正解 = 4, 予測 = 3\n",
      "サンプル 65: 正解 = 4, 予測 = 3\n"
     ]
    }
   ],
   "source": [
    "directory_path = parent_dir / 'dataset'\n",
    "   \n",
    "train_voice_folder = directory_path / 'washino' / 'voice'\n",
    "train_cough_folder = directory_path / 'washino' / 'cough'\n",
    "train_swallowing_folder = directory_path / 'washino' / 'swallowing'   \n",
    "train_movement_folder = directory_path / 'washino' / 'movement'   \n",
    "train_hitting_folder = directory_path / 'washino' / 'hitting'   \n",
    "\n",
    "test_voice_folder = directory_path / 'shibata' / 'voice'\n",
    "test_cough_folder = directory_path / 'shibata' / 'cough'\n",
    "test_swallowing_folder = directory_path / 'shibata' / 'swallowing'    \n",
    "\n",
    "train_data = dataset.DataSet(500, 224, 224, 3, 5)\n",
    "test_data = dataset.DataSet(70, 224, 224, 3, 5)\n",
    "\n",
    "train_data.folder_to_dataset(train_voice_folder, np.array([0, 0, 0, 0, 1]), 0)\n",
    "train_data.folder_to_dataset(train_cough_folder, np.array([0, 0, 0, 1, 0]), 1)\n",
    "train_data.folder_to_dataset(train_swallowing_folder, np.array([0, 0, 1, 0, 0]), 2)\n",
    "train_data.folder_to_dataset(train_movement_folder, np.array([0, 1, 0, 0, 0]), 3)\n",
    "train_data.folder_to_dataset(train_hitting_folder, np.array([1, 0, 0, 0, 0]), 4)\n",
    "\n",
    "test_data.folder_to_dataset(test_voice_folder, np.array([0, 0, 0, 0, 1]), 0)\n",
    "test_data.folder_to_dataset(test_cough_folder, np.array([0, 0, 0, 1, 0]), 1)\n",
    "test_data.folder_to_dataset(test_swallowing_folder, np.array([0, 0, 1, 0, 0]), 2)\n",
    "test_data.folder_to_dataset(test_cough_folder, np.array([0, 0, 0, 1, 0]), 3)\n",
    "test_data.folder_to_dataset(test_swallowing_folder, np.array([0, 0, 1, 0, 0]), 4)\n",
    "\n",
    "model = dence_net.DanceNet(5)\n",
    "model.training(train_data.data, train_data.labels)\n",
    "model.evaluate(test_data.data, test_data.labels)\n",
    "model.save('20240130_datasets.keras')"
   ]
  },
  {
   "cell_type": "code",
   "execution_count": null,
   "id": "6cff26a6",
   "metadata": {},
   "outputs": [],
   "source": []
  }
 ],
 "metadata": {
  "kernelspec": {
   "display_name": "s2-washino",
   "language": "python",
   "name": "washino"
  },
  "language_info": {
   "codemirror_mode": {
    "name": "ipython",
    "version": 3
   },
   "file_extension": ".py",
   "mimetype": "text/x-python",
   "name": "python",
   "nbconvert_exporter": "python",
   "pygments_lexer": "ipython3",
   "version": "3.10.13"
  }
 },
 "nbformat": 4,
 "nbformat_minor": 5
}
