{
 "cells": [
  {
   "cell_type": "code",
   "execution_count": 1,
   "id": "074fafd9",
   "metadata": {},
   "outputs": [
    {
     "name": "stderr",
     "output_type": "stream",
     "text": [
      "2024-02-13 19:55:08.600940: I tensorflow/core/util/port.cc:110] oneDNN custom operations are on. You may see slightly different numerical results due to floating-point round-off errors from different computation orders. To turn them off, set the environment variable `TF_ENABLE_ONEDNN_OPTS=0`.\n",
      "2024-02-13 19:55:08.642896: I tensorflow/core/platform/cpu_feature_guard.cc:182] This TensorFlow binary is optimized to use available CPU instructions in performance-critical operations.\n",
      "To enable the following instructions: AVX2 AVX512F AVX512_VNNI FMA, in other operations, rebuild TensorFlow with the appropriate compiler flags.\n",
      "2024-02-13 19:55:09.342455: W tensorflow/compiler/tf2tensorrt/utils/py_utils.cc:38] TF-TRT Warning: Could not find TensorRT\n"
     ]
    }
   ],
   "source": [
    "from tensorflow.keras.models import load_model\n",
    "import numpy as np\n",
    "import os\n",
    "import sys\n",
    "import pathlib\n",
    "from pathlib import Path"
   ]
  },
  {
   "cell_type": "code",
   "execution_count": 2,
   "id": "a5ee32cb",
   "metadata": {},
   "outputs": [],
   "source": [
    "current_dir = os.getcwd()\n",
    "parent_dir = os.path.dirname(current_dir)\n",
    "sys.path.append(parent_dir)\n",
    "current_file_path = pathlib.Path(os.getcwd())\n",
    "parent_dir = current_file_path.parent\n",
    "directory_path = parent_dir / 'dataset'\n",
    "import swallowing_recognition"
   ]
  },
  {
   "cell_type": "code",
   "execution_count": 3,
   "id": "3c75c99c",
   "metadata": {},
   "outputs": [],
   "source": [
    "from swallowing_recognition import dataset"
   ]
  },
  {
   "cell_type": "code",
   "execution_count": 1,
   "id": "28867341",
   "metadata": {
    "scrolled": true
   },
   "outputs": [
    {
     "ename": "NameError",
     "evalue": "name 'load_model' is not defined",
     "output_type": "error",
     "traceback": [
      "\u001b[0;31m---------------------------------------------------------------------------\u001b[0m",
      "\u001b[0;31mNameError\u001b[0m                                 Traceback (most recent call last)",
      "Cell \u001b[0;32mIn[1], line 1\u001b[0m\n\u001b[0;32m----> 1\u001b[0m loaded_model \u001b[38;5;241m=\u001b[39m \u001b[43mload_model\u001b[49m(\u001b[38;5;124m'\u001b[39m\u001b[38;5;124m20240213_binary_ep80_bs32_v1.keras\u001b[39m\u001b[38;5;124m'\u001b[39m)\n",
      "\u001b[0;31mNameError\u001b[0m: name 'load_model' is not defined"
     ]
    }
   ],
   "source": [
    "loaded_model = load_model('20240213_binary_ep80_bs32_v1.keras')"
   ]
  },
  {
   "cell_type": "markdown",
   "id": "5ec7223e",
   "metadata": {},
   "source": [
    "# フォルダのファイルを全て読み込み，予測する"
   ]
  },
  {
   "cell_type": "code",
   "execution_count": 22,
   "id": "9bf5d234",
   "metadata": {},
   "outputs": [],
   "source": [
    "name = \"t\""
   ]
  },
  {
   "cell_type": "code",
   "execution_count": 23,
   "id": "9f7c6c93",
   "metadata": {},
   "outputs": [],
   "source": [
    "prediction_swallowing_folder = directory_path / name / 'swallowing'\n",
    "prediction_voice_folder = directory_path / name / 'voice'\n",
    "prediction_cough_folder = directory_path / name / 'cough'\n",
    "prediction_hitting_folder = directory_path / name / 'hitting'    \n",
    "prediction_movement_folder = directory_path / name / 'movement'    "
   ]
  },
  {
   "cell_type": "code",
   "execution_count": 24,
   "id": "6675d2f6",
   "metadata": {},
   "outputs": [],
   "source": [
    "prediction_data = dataset.DataSet(50, 224, 224, 3, 2)\n",
    "prediction_data.folder_to_dataset(prediction_swallowing_folder, np.array(0), 0)\n",
    "prediction_data.folder_to_dataset(prediction_voice_folder, np.array(1), 10)\n",
    "prediction_data.folder_to_dataset(prediction_cough_folder, np.array(1), 20)\n",
    "prediction_data.folder_to_dataset(prediction_hitting_folder, np.array(1), 30)\n",
    "prediction_data.folder_to_dataset(prediction_movement_folder, np.array(1), 40)"
   ]
  },
  {
   "cell_type": "code",
   "execution_count": 25,
   "id": "f91058fa",
   "metadata": {},
   "outputs": [
    {
     "name": "stdout",
     "output_type": "stream",
     "text": [
      "2/2 [==============================] - 0s 26ms/step\n",
      "Predicted classes: [0 0 0 0 0 0 0 0 0 0 1 1 1 1 1 1 1 1 1 1 1 1 1 1 1 1 1 1 1 1 1 1 1 1 1 1 1\n",
      " 1 1 1 1 1 1 1 1 1 1 1 1 1]\n"
     ]
    }
   ],
   "source": [
    "predictions = loaded_model.predict(prediction_data.data)\n",
    "predicted_classes = (predictions > 0.5).astype(int)\n",
    "predicted_classes = np.squeeze(predicted_classes)\n",
    "print(\"Predicted classes:\", predicted_classes)"
   ]
  },
  {
   "cell_type": "code",
   "execution_count": 26,
   "id": "caa6b2c9",
   "metadata": {},
   "outputs": [
    {
     "name": "stdout",
     "output_type": "stream",
     "text": [
      "適合率（Precision）: 1.00\n",
      "再現率（Recall）: 1.00\n",
      "F値: 1.00\n"
     ]
    }
   ],
   "source": [
    "from sklearn.metrics import precision_score, recall_score, f1_score\n",
    "precision = precision_score(prediction_data.labels, predicted_classes)\n",
    "recall = recall_score(prediction_data.labels, predicted_classes)\n",
    "f1 = f1_score(prediction_data.labels, predicted_classes)\n",
    "\n",
    "print(\"適合率（Precision）: {:.2f}\".format(precision))\n",
    "print(\"再現率（Recall）: {:.2f}\".format(recall))\n",
    "print(\"F値: {:.2f}\".format(f1))"
   ]
  },
  {
   "cell_type": "code",
   "execution_count": null,
   "id": "a02e0db4",
   "metadata": {},
   "outputs": [],
   "source": []
  }
 ],
 "metadata": {
  "kernelspec": {
   "display_name": "s2-washino",
   "language": "python",
   "name": "washino"
  },
  "language_info": {
   "codemirror_mode": {
    "name": "ipython",
    "version": 3
   },
   "file_extension": ".py",
   "mimetype": "text/x-python",
   "name": "python",
   "nbconvert_exporter": "python",
   "pygments_lexer": "ipython3",
   "version": "3.10.13"
  }
 },
 "nbformat": 4,
 "nbformat_minor": 5
}
