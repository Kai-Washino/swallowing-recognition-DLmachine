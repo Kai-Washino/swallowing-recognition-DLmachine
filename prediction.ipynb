{
 "cells": [
  {
   "cell_type": "code",
   "execution_count": 4,
   "id": "074fafd9",
   "metadata": {},
   "outputs": [],
   "source": [
    "from tensorflow.keras.models import load_model\n",
    "import numpy as np\n",
    "import os\n",
    "import sys\n",
    "import pathlib\n",
    "from pathlib import Path"
   ]
  },
  {
   "cell_type": "code",
   "execution_count": 12,
   "id": "a5ee32cb",
   "metadata": {},
   "outputs": [],
   "source": [
    "current_dir = os.getcwd()\n",
    "parent_dir = os.path.dirname(current_dir)\n",
    "sys.path.append(parent_dir)\n",
    "current_file_path = pathlib.Path(os.getcwd())\n",
    "parent_dir = current_file_path.parent\n",
    "directory_path = parent_dir / 'dataset'\n",
    "import swallowing_recognition"
   ]
  },
  {
   "cell_type": "code",
   "execution_count": 9,
   "id": "3c75c99c",
   "metadata": {},
   "outputs": [],
   "source": [
    "from swallowing_recognition import dataset"
   ]
  },
  {
   "cell_type": "code",
   "execution_count": 34,
   "id": "28867341",
   "metadata": {
    "scrolled": true
   },
   "outputs": [],
   "source": [
    "loaded_model = load_model('20240205_binary_ep50_bs32.keras')"
   ]
  },
  {
   "cell_type": "markdown",
   "id": "5ec7223e",
   "metadata": {},
   "source": [
    "# フォルダのファイルを全て読み込み，予測する"
   ]
  },
  {
   "cell_type": "code",
   "execution_count": 20,
   "id": "9bf5d234",
   "metadata": {},
   "outputs": [],
   "source": [
    "name = \"tsuji\""
   ]
  },
  {
   "cell_type": "code",
   "execution_count": 17,
   "id": "9f7c6c93",
   "metadata": {},
   "outputs": [],
   "source": [
    "prediction_swallowing_folder = directory_path / name / 'swallowing'\n",
    "prediction_voice_folder = directory_path / name / 'voice'\n",
    "prediction_cough_folder = directory_path / name / 'cough'\n",
    "prediction_hitting_folder = directory_path / name / 'hitting'    \n",
    "prediction_movement_folder = directory_path / name / 'movement'    "
   ]
  },
  {
   "cell_type": "code",
   "execution_count": 18,
   "id": "6675d2f6",
   "metadata": {},
   "outputs": [],
   "source": [
    "prediction_data = dataset.DataSet(50, 224, 224, 3, 2)\n",
    "prediction_data.folder_to_dataset(prediction_swallowing_folder, np.array(0), 0)\n",
    "prediction_data.folder_to_dataset(prediction_voice_folder, np.array(1), 10)\n",
    "prediction_data.folder_to_dataset(prediction_cough_folder, np.array(1), 20)\n",
    "prediction_data.folder_to_dataset(prediction_hitting_folder, np.array(1), 30)\n",
    "prediction_data.folder_to_dataset(prediction_movement_folder, np.array(1), 40)"
   ]
  },
  {
   "cell_type": "code",
   "execution_count": 40,
   "id": "f91058fa",
   "metadata": {},
   "outputs": [
    {
     "name": "stdout",
     "output_type": "stream",
     "text": [
      "2/2 [==============================] - 0s 26ms/step\n",
      "Predicted classes: [1 0 0 0 0 0 0 0 0 0 1 1 1 1 1 1 0 1 1 1 1 1 1 1 1 1 1 1 1 1 1 1 1 1 1 1 1\n",
      " 1 1 1 1 0 1 1 0 1 1 1 1 1]\n"
     ]
    }
   ],
   "source": [
    "predictions = loaded_model.predict(prediction_data.data)\n",
    "predicted_classes = (predictions > 0.5).astype(int)\n",
    "predicted_classes = np.squeeze(predicted_classes)\n",
    "print(\"Predicted classes:\", predicted_classes)"
   ]
  },
  {
   "cell_type": "code",
   "execution_count": 46,
   "id": "caa6b2c9",
   "metadata": {},
   "outputs": [
    {
     "name": "stdout",
     "output_type": "stream",
     "text": [
      "適合率（Precision）: 0.97\n",
      "再現率（Recall）: 0.93\n",
      "F1値: 0.95\n"
     ]
    }
   ],
   "source": [
    "from sklearn.metrics import precision_score, recall_score, f1_score\n",
    "precision = precision_score(prediction_data.labels, predicted_classes)\n",
    "recall = recall_score(prediction_data.labels, predicted_classes)\n",
    "f1 = f1_score(prediction_data.labels, predicted_classes)\n",
    "\n",
    "print(\"適合率（Precision）: {:.2f}\".format(precision))\n",
    "print(\"再現率（Recall）: {:.2f}\".format(recall))\n",
    "print(\"F値: {:.2f}\".format(f1))"
   ]
  },
  {
   "cell_type": "code",
   "execution_count": null,
   "id": "a02e0db4",
   "metadata": {},
   "outputs": [],
   "source": []
  }
 ],
 "metadata": {
  "kernelspec": {
   "display_name": "s2-washino",
   "language": "python",
   "name": "washino"
  },
  "language_info": {
   "codemirror_mode": {
    "name": "ipython",
    "version": 3
   },
   "file_extension": ".py",
   "mimetype": "text/x-python",
   "name": "python",
   "nbconvert_exporter": "python",
   "pygments_lexer": "ipython3",
   "version": "3.10.13"
  }
 },
 "nbformat": 4,
 "nbformat_minor": 5
}
